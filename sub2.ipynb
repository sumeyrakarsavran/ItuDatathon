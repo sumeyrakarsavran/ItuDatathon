{
 "cells": [
  {
   "cell_type": "code",
   "execution_count": 1,
   "id": "7c272373-9ae7-4961-9cb1-5eb6427d8b51",
   "metadata": {},
   "outputs": [],
   "source": [
    "import tensorflow as tf\n",
    "import tensorflow_hub as hub\n",
    "\n",
    "\n",
    "from tensorflow.keras.preprocessing.image import ImageDataGenerator\n",
    "import numpy as np\n",
    "import pandas as pd\n",
    "import matplotlib.pyplot as plt\n",
    "import tensorboard\n",
    "\"\"\"data_augmentation = tf.keras.Sequential([\n",
    "  layers.RandomFlip(\"horizontal_and_vertical\"),\n",
    "  layers.RandomRotation(0.2),\n",
    "])\"\"\"\n",
    "from sklearn.model_selection import train_test_split"
   ]
  },
  {
   "cell_type": "code",
   "execution_count": 2,
   "id": "aa4cc637-9f3d-4d78-a4a1-b779b3e95949",
   "metadata": {},
   "outputs": [],
   "source": [
    "train_labels=pd.read_csv(\"train_data.csv\")\n",
    "test_labels=pd.read_csv(\"test.csv\")"
   ]
  },
  {
   "cell_type": "code",
   "execution_count": 3,
   "id": "4f773c44-c17c-4495-917b-5a2380f5bd11",
   "metadata": {},
   "outputs": [
    {
     "data": {
      "text/plain": [
       "city\n",
       "Ankara      2360\n",
       "Izmir       2322\n",
       "Istanbul    2318\n",
       "Name: count, dtype: int64"
      ]
     },
     "execution_count": 3,
     "metadata": {},
     "output_type": "execute_result"
    }
   ],
   "source": [
    "train_labels[\"city\"].value_counts()"
   ]
  },
  {
   "cell_type": "code",
   "execution_count": 4,
   "id": "6701746a-1f3e-44eb-b01a-a97b32c5fc36",
   "metadata": {},
   "outputs": [
    {
     "data": {
      "text/plain": [
       "array(['Istanbul', 'Istanbul', 'Ankara', ..., 'Ankara', 'Izmir', 'Ankara'],\n",
       "      dtype=object)"
      ]
     },
     "execution_count": 4,
     "metadata": {},
     "output_type": "execute_result"
    }
   ],
   "source": [
    "cities=train_labels.city.to_numpy()\n",
    "cities"
   ]
  },
  {
   "cell_type": "code",
   "execution_count": 5,
   "id": "2b4781a9-2250-41f0-abb2-53e8c3e0cbe1",
   "metadata": {},
   "outputs": [],
   "source": [
    "filenames_train=[f\"train/train/{value}\" for key,value in train_labels.filename.items()]"
   ]
  },
  {
   "cell_type": "code",
   "execution_count": 6,
   "id": "e1e1ef82-00b6-49f5-8e35-eaf0759eaa23",
   "metadata": {
    "scrolled": true
   },
   "outputs": [],
   "source": [
    "#filenames_train"
   ]
  },
  {
   "cell_type": "code",
   "execution_count": 7,
   "id": "b04fc509-4ce9-4a52-9413-bc9fa9041f4e",
   "metadata": {},
   "outputs": [
    {
     "data": {
      "text/plain": [
       "array(['Ankara', 'Istanbul', 'Izmir'], dtype=object)"
      ]
     },
     "execution_count": 7,
     "metadata": {},
     "output_type": "execute_result"
    }
   ],
   "source": [
    "unique_cities=np.unique(cities)\n",
    "unique_cities"
   ]
  },
  {
   "cell_type": "code",
   "execution_count": 8,
   "id": "a0d3e8ed-5ce4-4b5b-9fb8-dbd9f8f4deba",
   "metadata": {},
   "outputs": [],
   "source": [
    "boolean_cities=[label==unique_cities for label in cities]"
   ]
  },
  {
   "cell_type": "code",
   "execution_count": 9,
   "id": "bbad0763-a309-4a24-b689-4f379d8afc9f",
   "metadata": {
    "scrolled": true
   },
   "outputs": [],
   "source": [
    "#boolean_cities"
   ]
  },
  {
   "cell_type": "code",
   "execution_count": 10,
   "id": "27661bc4-3104-4341-b787-949457fd4a29",
   "metadata": {},
   "outputs": [],
   "source": [
    "x=filenames_train\n",
    "y=boolean_cities"
   ]
  },
  {
   "cell_type": "code",
   "execution_count": 11,
   "id": "504da0ad-b9d2-4349-a784-af4099777167",
   "metadata": {
    "scrolled": true
   },
   "outputs": [],
   "source": [
    "#x"
   ]
  },
  {
   "cell_type": "code",
   "execution_count": 12,
   "id": "469fb55e-cd97-4c8c-b42d-aa44f75ca348",
   "metadata": {},
   "outputs": [],
   "source": [
    "IMG_SIZE=224\n",
    "class main_app_process:\n",
    "\n",
    "    def __init__(self) -> None:\n",
    "        pass\n",
    "    def image_process(self,image_path, img_size=IMG_SIZE):\n",
    "      \"\"\"\n",
    "      Takes an image file path and turns the image into a Tensor.\n",
    "      \"\"\"\n",
    "      # Read in an image file\n",
    "      image = tf.io.read_file(image_path)\n",
    "      # Turn the jpeg image into numerical Tensor with 3 colour channels (Red, Green, Blue)\n",
    "      image = tf.image.decode_jpeg(image, channels=3)\n",
    "      # Convert the colour channel values from 0-255 to 0-1 values\n",
    "      image = tf.image.convert_image_dtype(image, tf.float32)\n",
    "      # Resize the image to our desired value (224, 224)\n",
    "      image = tf.image.resize(image, size=[IMG_SIZE, IMG_SIZE])\n",
    "\n",
    "      return image\n",
    "\n",
    "    def image_for_train_and_valid(self,path,label):\n",
    "      images=self.image_process(path)\n",
    "      return images,label\n",
    "\n",
    "    def create_data_batches(self,x,y=None,batch_size=32,valid_data=False,test_data=False):\n",
    "      if test_data :\n",
    "        print(\"Creating test set batches\")\n",
    "        data=tf.data.Dataset.from_tensor_slices(tf.constant(x))\n",
    "        data_batch=data.map(self.image_process).batch(32)\n",
    "        return data_batch\n",
    "      elif valid_data:\n",
    "        print(\"Creating valid set batches\")\n",
    "        data=tf.data.Dataset.from_tensor_slices((tf.constant(x),tf.constant(y)))\n",
    "        data_batch=data.map(self.image_for_train_and_valid).batch(32)\n",
    "        return data_batch\n",
    "      else:\n",
    "        print(\"Creating train set batches\")\n",
    "\n",
    "        data = tf.data.Dataset.from_tensor_slices((tf.constant(x),\n",
    "                                                  tf.constant(y)))\n",
    "        data=data.shuffle(buffer_size=len(x))\n",
    "        data=data.map(self.image_for_train_and_valid)\n",
    "        data_batch=data.batch(32)\n",
    "\n",
    "        return data_batch\n",
    "\n",
    "    def imager(self,image,label):\n",
    "      ax=plt.figure(figsize=[10,10])\n",
    "      for i in range(25):\n",
    "        plt.subplot(5,5,i+1)\n",
    "        \n",
    "        plt.imshow(image[i])\n",
    "        plt.title(unique_cities[label[i].argmax()])\n",
    "        plt.axis(\"off\")\n",
    "    \n",
    "   "
   ]
  },
  {
   "cell_type": "code",
   "execution_count": 13,
   "id": "6e450bea-139e-42e8-b235-fee66d3c91ab",
   "metadata": {},
   "outputs": [],
   "source": [
    "x_train,x_valid,y_train,y_valid=train_test_split(x,y,test_size=0.2)"
   ]
  },
  {
   "cell_type": "code",
   "execution_count": null,
   "id": "cd0aa9ef-e805-4008-8c6c-d06dd077e80e",
   "metadata": {},
   "outputs": [],
   "source": []
  },
  {
   "cell_type": "code",
   "execution_count": 14,
   "id": "d6c69906-5a2b-4bd4-816b-aa28f60dd5c6",
   "metadata": {},
   "outputs": [
    {
     "name": "stdout",
     "output_type": "stream",
     "text": [
      "Creating train set batches\n",
      "Creating valid set batches\n"
     ]
    }
   ],
   "source": [
    "train_data=main_app_process().create_data_batches(x_train,y_train)\n",
    "valid_data=main_app_process().create_data_batches(x_valid,y_valid,valid_data=True)"
   ]
  },
  {
   "cell_type": "code",
   "execution_count": 15,
   "id": "7b311840-88b0-4cee-96f8-39f930c443f6",
   "metadata": {},
   "outputs": [],
   "source": [
    "train_images,train_labelssss=next(train_data.as_numpy_iterator())"
   ]
  },
  {
   "cell_type": "code",
   "execution_count": 16,
   "id": "a0f46797-96a8-431e-9020-f23af4f3d5f2",
   "metadata": {},
   "outputs": [
    {
     "data": {
      "text/plain": [
       "32"
      ]
     },
     "execution_count": 16,
     "metadata": {},
     "output_type": "execute_result"
    }
   ],
   "source": [
    "len(train_images)"
   ]
  },
  {
   "cell_type": "code",
   "execution_count": 17,
   "id": "276086ae-89f3-48c9-be18-c4fffd7bb6f6",
   "metadata": {},
   "outputs": [],
   "source": [
    "#main_app_process().imager(train_images,train_labelssss)"
   ]
  },
  {
   "cell_type": "code",
   "execution_count": 18,
   "id": "11be894e-9ae9-4468-a89a-f009e56017a8",
   "metadata": {},
   "outputs": [],
   "source": [
    "from tensorflow.keras import backend as K\n",
    "\n",
    "def macro_f1_score(y_true, y_pred):\n",
    "    y_pred = tf.argmax(y_pred, axis=-1)\n",
    "    y_true = tf.argmax(y_true, axis=-1)\n",
    "    \n",
    "    tp = tf.reduce_sum(tf.cast(y_true * y_pred, tf.float32), axis=0)\n",
    "    fp = tf.reduce_sum(tf.cast((1 - y_true) * y_pred, tf.float32), axis=0)\n",
    "    fn = tf.reduce_sum(tf.cast(y_true * (1 - y_pred), tf.float32), axis=0)\n",
    "\n",
    "    f1 = 2 * tp / (2 * tp + fp + fn + K.epsilon())\n",
    "    return tf.reduce_mean(f1)  # Macro average"
   ]
  },
  {
   "cell_type": "code",
   "execution_count": 19,
   "id": "0df1e10f-f406-44dd-b0e5-62262c05ece6",
   "metadata": {},
   "outputs": [],
   "source": [
    "IMG_SIZE=224\n",
    "# Setup input shape to the model\n",
    "INPUT_SHAPE = [None, IMG_SIZE, IMG_SIZE, 3] # batch, height, width, colour channels\n",
    "\n",
    "# Setup output shape of our model\n",
    "OUTPUT_SHAPE = len(unique_cities)\n",
    "\n",
    "# Setup model URL from TensorFlow Hub\n",
    "MODEL_URL = \"https://www.kaggle.com/models/google/mobilenet-v2/tensorFlow2/140-224-classification/2\"\n",
    "#\"https://www.kaggle.com/models/google/mobilenet-v2/TensorFlow2/tf2-preview-classification/4\"\n",
    "#\n",
    "#\"https://kaggle.com/models/google/mobilenet-v2/TensorFlow2/130-224-classification/1\"\n",
    "\n",
    "\n",
    "base_model = hub.KerasLayer(MODEL_URL, trainable=True)\n",
    "# Create a function which builds a Keras model\n",
    "def create_model(input_shape=INPUT_SHAPE, output_shape=OUTPUT_SHAPE, model_url=MODEL_URL):\n",
    "  print(\"Building model with:\", MODEL_URL)\n",
    "   \n",
    "  # Setup the model layers\n",
    "  model = tf.keras.Sequential([\n",
    "    \n",
    "        base_model,\n",
    "        tf.keras.layers.Dense(128, activation='relu'),\n",
    "        tf.keras.layers.Dropout(0.3),\n",
    "        tf.keras.layers.Dense(units=OUTPUT_SHAPE, activation=\"softmax\")\n",
    "    ])\n",
    "\n",
    "  # Compile the model\n",
    "  model.compile(\n",
    "      loss=tf.keras.losses.CategoricalCrossentropy(),\n",
    "      optimizer=tf.keras.optimizers.Adam(1e-4),\n",
    "      metrics=[\"accuracy\"]\n",
    "  )\n",
    "\n",
    "  # Build the model\n",
    "  model.build(INPUT_SHAPE)\n",
    "\n",
    "  return model"
   ]
  },
  {
   "cell_type": "code",
   "execution_count": 20,
   "id": "7aaf7d34-2359-4519-92bc-51ece6e23cf4",
   "metadata": {},
   "outputs": [],
   "source": [
    "\n",
    "\n",
    "early_stopping = tf.keras.callbacks.EarlyStopping(monitor=\"val_accuracy\",\n",
    "                                                  patience=10)"
   ]
  },
  {
   "cell_type": "code",
   "execution_count": 21,
   "id": "773a36c3-d9ab-456b-b0c5-85ad83db0a77",
   "metadata": {},
   "outputs": [],
   "source": [
    "NUM_EPOCHS=200\n",
    "def train_model():\n",
    " model=create_model()\n",
    "    \n",
    " model.fit(train_data,epochs=NUM_EPOCHS,validation_data=valid_data,validation_freq=1,callbacks=[early_stopping])\n",
    " return model"
   ]
  },
  {
   "cell_type": "code",
   "execution_count": 22,
   "id": "2ade620e-32ed-4a62-901e-71707bbb16f5",
   "metadata": {},
   "outputs": [
    {
     "name": "stdout",
     "output_type": "stream",
     "text": [
      "Building model with: https://www.kaggle.com/models/google/mobilenet-v2/tensorFlow2/140-224-classification/2\n",
      "Epoch 1/200\n",
      "175/175 [==============================] - 918s 5s/step - loss: 0.7983 - accuracy: 0.7202 - val_loss: 0.6056 - val_accuracy: 0.8129\n",
      "Epoch 2/200\n",
      "175/175 [==============================] - 896s 5s/step - loss: 0.3916 - accuracy: 0.8984 - val_loss: 0.6912 - val_accuracy: 0.7893\n",
      "Epoch 3/200\n",
      "175/175 [==============================] - 893s 5s/step - loss: 0.2542 - accuracy: 0.9573 - val_loss: 0.7398 - val_accuracy: 0.8271\n",
      "Epoch 4/200\n",
      "175/175 [==============================] - 903s 5s/step - loss: 0.2205 - accuracy: 0.9675 - val_loss: 0.6539 - val_accuracy: 0.8429\n",
      "Epoch 5/200\n",
      "175/175 [==============================] - 896s 5s/step - loss: 0.2047 - accuracy: 0.9761 - val_loss: 0.7160 - val_accuracy: 0.8586\n",
      "Epoch 6/200\n",
      "175/175 [==============================] - 884s 5s/step - loss: 0.1964 - accuracy: 0.9773 - val_loss: 0.7979 - val_accuracy: 0.8529\n",
      "Epoch 7/200\n",
      "175/175 [==============================] - 888s 5s/step - loss: 0.1883 - accuracy: 0.9807 - val_loss: 0.7025 - val_accuracy: 0.8736\n",
      "Epoch 8/200\n",
      "175/175 [==============================] - 912s 5s/step - loss: 0.1806 - accuracy: 0.9814 - val_loss: 0.8355 - val_accuracy: 0.8364\n",
      "Epoch 9/200\n",
      "175/175 [==============================] - 966s 6s/step - loss: 0.1839 - accuracy: 0.9807 - val_loss: 0.6023 - val_accuracy: 0.8679\n",
      "Epoch 10/200\n",
      "175/175 [==============================] - 914s 5s/step - loss: 0.1752 - accuracy: 0.9843 - val_loss: 1.0981 - val_accuracy: 0.8307\n",
      "Epoch 11/200\n",
      "175/175 [==============================] - 956s 5s/step - loss: 0.1782 - accuracy: 0.9866 - val_loss: 0.7246 - val_accuracy: 0.8714\n",
      "Epoch 12/200\n",
      "175/175 [==============================] - 933s 5s/step - loss: 0.1676 - accuracy: 0.9879 - val_loss: 0.7796 - val_accuracy: 0.8600\n",
      "Epoch 13/200\n",
      "175/175 [==============================] - 938s 5s/step - loss: 0.1657 - accuracy: 0.9879 - val_loss: 0.8032 - val_accuracy: 0.8593\n",
      "Epoch 14/200\n",
      "175/175 [==============================] - 964s 6s/step - loss: 0.1553 - accuracy: 0.9898 - val_loss: 0.6987 - val_accuracy: 0.8843\n",
      "Epoch 15/200\n",
      "175/175 [==============================] - 962s 5s/step - loss: 0.1719 - accuracy: 0.9873 - val_loss: 0.6373 - val_accuracy: 0.8793\n",
      "Epoch 16/200\n",
      "175/175 [==============================] - 1681s 10s/step - loss: 0.1676 - accuracy: 0.9868 - val_loss: 0.6837 - val_accuracy: 0.8779\n",
      "Epoch 17/200\n",
      "175/175 [==============================] - 1144s 7s/step - loss: 0.1666 - accuracy: 0.9887 - val_loss: 0.6363 - val_accuracy: 0.8771\n",
      "Epoch 18/200\n",
      "175/175 [==============================] - 1113s 6s/step - loss: 0.1713 - accuracy: 0.9855 - val_loss: 0.8200 - val_accuracy: 0.8500\n",
      "Epoch 19/200\n",
      "175/175 [==============================] - 1176s 7s/step - loss: 0.1643 - accuracy: 0.9875 - val_loss: 0.6836 - val_accuracy: 0.8843\n",
      "Epoch 20/200\n",
      "175/175 [==============================] - 1105s 6s/step - loss: 0.1678 - accuracy: 0.9880 - val_loss: 0.7600 - val_accuracy: 0.8714\n",
      "Epoch 21/200\n",
      "175/175 [==============================] - 1062s 6s/step - loss: 0.1444 - accuracy: 0.9955 - val_loss: 0.8675 - val_accuracy: 0.8750\n",
      "Epoch 22/200\n",
      "175/175 [==============================] - 965s 6s/step - loss: 0.1616 - accuracy: 0.9914 - val_loss: 0.6065 - val_accuracy: 0.8807\n",
      "Epoch 23/200\n",
      "175/175 [==============================] - 865s 5s/step - loss: 0.1510 - accuracy: 0.9921 - val_loss: 0.9197 - val_accuracy: 0.8743\n",
      "Epoch 24/200\n",
      "175/175 [==============================] - 865s 5s/step - loss: 0.1655 - accuracy: 0.9895 - val_loss: 0.7023 - val_accuracy: 0.8907\n",
      "Epoch 25/200\n",
      "175/175 [==============================] - 865s 5s/step - loss: 0.1584 - accuracy: 0.9909 - val_loss: 0.7797 - val_accuracy: 0.8729\n",
      "Epoch 26/200\n",
      "175/175 [==============================] - 864s 5s/step - loss: 0.1672 - accuracy: 0.9873 - val_loss: 0.8196 - val_accuracy: 0.8779\n",
      "Epoch 27/200\n",
      "175/175 [==============================] - 873s 5s/step - loss: 0.1536 - accuracy: 0.9907 - val_loss: 0.7098 - val_accuracy: 0.8936\n",
      "Epoch 28/200\n",
      "175/175 [==============================] - 859s 5s/step - loss: 0.1491 - accuracy: 0.9950 - val_loss: 0.8295 - val_accuracy: 0.8921\n",
      "Epoch 29/200\n",
      "175/175 [==============================] - 1026s 6s/step - loss: 0.1588 - accuracy: 0.9893 - val_loss: 0.8717 - val_accuracy: 0.8614\n",
      "Epoch 30/200\n",
      "175/175 [==============================] - 1059s 6s/step - loss: 0.1612 - accuracy: 0.9884 - val_loss: 0.9629 - val_accuracy: 0.8486\n",
      "Epoch 31/200\n",
      "175/175 [==============================] - 1081s 6s/step - loss: 0.1643 - accuracy: 0.9882 - val_loss: 0.6393 - val_accuracy: 0.8936\n",
      "Epoch 32/200\n",
      "175/175 [==============================] - 1063s 6s/step - loss: 0.1460 - accuracy: 0.9945 - val_loss: 1.4259 - val_accuracy: 0.8164\n",
      "Epoch 33/200\n",
      "175/175 [==============================] - 987s 6s/step - loss: 0.1521 - accuracy: 0.9927 - val_loss: 0.7518 - val_accuracy: 0.8786\n",
      "Epoch 34/200\n",
      "175/175 [==============================] - 878s 5s/step - loss: 0.1646 - accuracy: 0.9886 - val_loss: 0.8604 - val_accuracy: 0.8821\n",
      "Epoch 35/200\n",
      "175/175 [==============================] - 854s 5s/step - loss: 0.1474 - accuracy: 0.9930 - val_loss: 0.7488 - val_accuracy: 0.8907\n",
      "Epoch 36/200\n",
      "175/175 [==============================] - 853s 5s/step - loss: 0.1501 - accuracy: 0.9937 - val_loss: 0.6937 - val_accuracy: 0.8793\n",
      "Epoch 37/200\n",
      "175/175 [==============================] - 859s 5s/step - loss: 0.1498 - accuracy: 0.9934 - val_loss: 0.8304 - val_accuracy: 0.8786\n"
     ]
    }
   ],
   "source": [
    "model=train_model()"
   ]
  },
  {
   "cell_type": "code",
   "execution_count": 23,
   "id": "16d3a88c-91e0-4177-a7ca-fd5b8024d87d",
   "metadata": {},
   "outputs": [
    {
     "name": "stdout",
     "output_type": "stream",
     "text": [
      "44/44 - 32s - 32s/epoch - 723ms/step\n"
     ]
    }
   ],
   "source": [
    "model_pred_y=model.predict(valid_data,verbose=2)"
   ]
  },
  {
   "cell_type": "code",
   "execution_count": 24,
   "id": "918c80d3-6b3e-4b6c-898a-f26e6662396d",
   "metadata": {},
   "outputs": [
    {
     "data": {
      "text/plain": [
       "array([2, 1, 0, ..., 1, 0, 2], dtype=int64)"
      ]
     },
     "execution_count": 24,
     "metadata": {},
     "output_type": "execute_result"
    }
   ],
   "source": [
    "y_pred_classes = np.argmax(model_pred_y, axis=1)\n",
    "y_true=np.argmax(y_valid,axis=1)\n",
    "y_pred_classes\n",
    "y_true"
   ]
  },
  {
   "cell_type": "code",
   "execution_count": 25,
   "id": "21ae999b-0e70-4162-932a-ea78f2d5328b",
   "metadata": {},
   "outputs": [],
   "source": [
    "from sklearn.metrics import f1_score"
   ]
  },
  {
   "cell_type": "code",
   "execution_count": 26,
   "id": "b715c02f-8424-4697-90f0-846980323735",
   "metadata": {},
   "outputs": [
    {
     "data": {
      "text/plain": [
       "0.8788582126068221"
      ]
     },
     "execution_count": 26,
     "metadata": {},
     "output_type": "execute_result"
    }
   ],
   "source": [
    "f1 = f1_score(y_true, y_pred_classes, average='macro')\n",
    "f1"
   ]
  },
  {
   "cell_type": "code",
   "execution_count": 30,
   "id": "2e3969c8-a8d3-4dde-9718-2eeab0530738",
   "metadata": {},
   "outputs": [],
   "source": [
    "#y_train"
   ]
  },
  {
   "cell_type": "code",
   "execution_count": 31,
   "id": "9233609d-66b6-42c4-b19f-db5b89c84fc3",
   "metadata": {},
   "outputs": [],
   "source": [
    "#y_valid"
   ]
  },
  {
   "cell_type": "code",
   "execution_count": 32,
   "id": "e3bd4406-a86b-4f28-8325-565cf213e381",
   "metadata": {},
   "outputs": [
    {
     "name": "stderr",
     "output_type": "stream",
     "text": [
      "C:\\Users\\karsa\\anaconda3\\envs\\new_env\\lib\\site-packages\\keras\\src\\engine\\training.py:3000: UserWarning: You are saving your model as an HDF5 file via `model.save()`. This file format is considered legacy. We recommend using instead the native Keras format, e.g. `model.save('my_model.keras')`.\n",
      "  saving_api.save_model(\n"
     ]
    }
   ],
   "source": [
    "model.save(\"trained_model2.h5\")"
   ]
  },
  {
   "cell_type": "code",
   "execution_count": 33,
   "id": "19c9c3b6-2fec-4ec8-a79f-345df9af4aad",
   "metadata": {},
   "outputs": [],
   "source": [
    "filenames_test=[f\"test/test/{value}\" for key,value in test_labels.filename.items()]"
   ]
  },
  {
   "cell_type": "code",
   "execution_count": 34,
   "id": "72fe70fc-ab1c-453a-99ae-2ac1946a5956",
   "metadata": {},
   "outputs": [
    {
     "name": "stdout",
     "output_type": "stream",
     "text": [
      "Creating test set batches\n"
     ]
    }
   ],
   "source": [
    "test_data=main_app_process().create_data_batches(filenames_test,test_data=True)"
   ]
  },
  {
   "cell_type": "code",
   "execution_count": 35,
   "id": "eeefaf09-8ffb-4621-91f7-2b2133a4ac32",
   "metadata": {},
   "outputs": [
    {
     "name": "stdout",
     "output_type": "stream",
     "text": [
      "63/63 - 50s - 50s/epoch - 800ms/step\n"
     ]
    }
   ],
   "source": [
    "model_pred_test=model.predict(test_data,verbose=2)"
   ]
  },
  {
   "cell_type": "code",
   "execution_count": 36,
   "id": "61262bc5-c227-4bcb-81f7-1e94ff612393",
   "metadata": {},
   "outputs": [
    {
     "data": {
      "text/plain": [
       "array([2, 2, 1, ..., 0, 1, 0], dtype=int64)"
      ]
     },
     "execution_count": 36,
     "metadata": {},
     "output_type": "execute_result"
    }
   ],
   "source": [
    "t_pred_classes = np.argmax(model_pred_test, axis=1)\n",
    "t_pred_classes"
   ]
  },
  {
   "cell_type": "code",
   "execution_count": 37,
   "id": "ee0439c5-0eea-45bc-baa1-9ef42bbb8dce",
   "metadata": {},
   "outputs": [],
   "source": [
    "predicted_city_names = [unique_cities[class_idx] for class_idx in t_pred_classes]"
   ]
  },
  {
   "cell_type": "code",
   "execution_count": 38,
   "id": "d4700957-f91d-4098-8df1-5d2602f6bfc5",
   "metadata": {},
   "outputs": [],
   "source": [
    "submission = pd.DataFrame({\n",
    "    \"filename\": test_labels[\"filename\"],  # Test veri setindeki ID'ler\n",
    "    \"city\": predicted_city_names\n",
    "})"
   ]
  },
  {
   "cell_type": "code",
   "execution_count": 39,
   "id": "3c7c85bb-06c2-41c6-a0a3-5422f80ac39f",
   "metadata": {},
   "outputs": [
    {
     "data": {
      "text/html": [
       "<div>\n",
       "<style scoped>\n",
       "    .dataframe tbody tr th:only-of-type {\n",
       "        vertical-align: middle;\n",
       "    }\n",
       "\n",
       "    .dataframe tbody tr th {\n",
       "        vertical-align: top;\n",
       "    }\n",
       "\n",
       "    .dataframe thead th {\n",
       "        text-align: right;\n",
       "    }\n",
       "</style>\n",
       "<table border=\"1\" class=\"dataframe\">\n",
       "  <thead>\n",
       "    <tr style=\"text-align: right;\">\n",
       "      <th></th>\n",
       "      <th>filename</th>\n",
       "      <th>city</th>\n",
       "    </tr>\n",
       "  </thead>\n",
       "  <tbody>\n",
       "    <tr>\n",
       "      <th>0</th>\n",
       "      <td>image_17000.jpg</td>\n",
       "      <td>Izmir</td>\n",
       "    </tr>\n",
       "    <tr>\n",
       "      <th>1</th>\n",
       "      <td>image_17001.jpg</td>\n",
       "      <td>Izmir</td>\n",
       "    </tr>\n",
       "    <tr>\n",
       "      <th>2</th>\n",
       "      <td>image_17002.jpg</td>\n",
       "      <td>Istanbul</td>\n",
       "    </tr>\n",
       "    <tr>\n",
       "      <th>3</th>\n",
       "      <td>image_17003.jpg</td>\n",
       "      <td>Istanbul</td>\n",
       "    </tr>\n",
       "    <tr>\n",
       "      <th>4</th>\n",
       "      <td>image_17004.jpg</td>\n",
       "      <td>Izmir</td>\n",
       "    </tr>\n",
       "  </tbody>\n",
       "</table>\n",
       "</div>"
      ],
      "text/plain": [
       "          filename      city\n",
       "0  image_17000.jpg     Izmir\n",
       "1  image_17001.jpg     Izmir\n",
       "2  image_17002.jpg  Istanbul\n",
       "3  image_17003.jpg  Istanbul\n",
       "4  image_17004.jpg     Izmir"
      ]
     },
     "execution_count": 39,
     "metadata": {},
     "output_type": "execute_result"
    }
   ],
   "source": [
    "submission.head()"
   ]
  },
  {
   "cell_type": "code",
   "execution_count": 40,
   "id": "abbc73cd-1a95-4925-b4f4-fb9d5ee476a1",
   "metadata": {},
   "outputs": [
    {
     "data": {
      "text/html": [
       "<div>\n",
       "<style scoped>\n",
       "    .dataframe tbody tr th:only-of-type {\n",
       "        vertical-align: middle;\n",
       "    }\n",
       "\n",
       "    .dataframe tbody tr th {\n",
       "        vertical-align: top;\n",
       "    }\n",
       "\n",
       "    .dataframe thead th {\n",
       "        text-align: right;\n",
       "    }\n",
       "</style>\n",
       "<table border=\"1\" class=\"dataframe\">\n",
       "  <thead>\n",
       "    <tr style=\"text-align: right;\">\n",
       "      <th></th>\n",
       "      <th>filename</th>\n",
       "      <th>city</th>\n",
       "    </tr>\n",
       "  </thead>\n",
       "  <tbody>\n",
       "    <tr>\n",
       "      <th>25</th>\n",
       "      <td>image_17025.jpg</td>\n",
       "      <td>Izmir</td>\n",
       "    </tr>\n",
       "  </tbody>\n",
       "</table>\n",
       "</div>"
      ],
      "text/plain": [
       "           filename   city\n",
       "25  image_17025.jpg  Izmir"
      ]
     },
     "execution_count": 40,
     "metadata": {},
     "output_type": "execute_result"
    }
   ],
   "source": [
    "submission[25:26]"
   ]
  },
  {
   "cell_type": "code",
   "execution_count": 41,
   "id": "63b615e3-00c0-44ec-af2b-dc022ed2d319",
   "metadata": {},
   "outputs": [],
   "source": [
    "submission.to_csv(\"submission2.csv\", index=False)"
   ]
  },
  {
   "cell_type": "code",
   "execution_count": 44,
   "id": "bb567055-5609-4a90-9359-220fb608941f",
   "metadata": {},
   "outputs": [
    {
     "data": {
      "text/html": [
       "<div>\n",
       "<style scoped>\n",
       "    .dataframe tbody tr th:only-of-type {\n",
       "        vertical-align: middle;\n",
       "    }\n",
       "\n",
       "    .dataframe tbody tr th {\n",
       "        vertical-align: top;\n",
       "    }\n",
       "\n",
       "    .dataframe thead th {\n",
       "        text-align: right;\n",
       "    }\n",
       "</style>\n",
       "<table border=\"1\" class=\"dataframe\">\n",
       "  <thead>\n",
       "    <tr style=\"text-align: right;\">\n",
       "      <th></th>\n",
       "      <th>filename</th>\n",
       "      <th>city</th>\n",
       "    </tr>\n",
       "  </thead>\n",
       "  <tbody>\n",
       "    <tr>\n",
       "      <th>150</th>\n",
       "      <td>image_17150.jpg</td>\n",
       "      <td>Istanbul</td>\n",
       "    </tr>\n",
       "    <tr>\n",
       "      <th>151</th>\n",
       "      <td>image_17151.jpg</td>\n",
       "      <td>Izmir</td>\n",
       "    </tr>\n",
       "    <tr>\n",
       "      <th>152</th>\n",
       "      <td>image_17152.jpg</td>\n",
       "      <td>Istanbul</td>\n",
       "    </tr>\n",
       "    <tr>\n",
       "      <th>153</th>\n",
       "      <td>image_17153.jpg</td>\n",
       "      <td>Istanbul</td>\n",
       "    </tr>\n",
       "    <tr>\n",
       "      <th>154</th>\n",
       "      <td>image_17154.jpg</td>\n",
       "      <td>Istanbul</td>\n",
       "    </tr>\n",
       "    <tr>\n",
       "      <th>155</th>\n",
       "      <td>image_17155.jpg</td>\n",
       "      <td>Izmir</td>\n",
       "    </tr>\n",
       "    <tr>\n",
       "      <th>156</th>\n",
       "      <td>image_17156.jpg</td>\n",
       "      <td>Ankara</td>\n",
       "    </tr>\n",
       "    <tr>\n",
       "      <th>157</th>\n",
       "      <td>image_17157.jpg</td>\n",
       "      <td>Istanbul</td>\n",
       "    </tr>\n",
       "    <tr>\n",
       "      <th>158</th>\n",
       "      <td>image_17158.jpg</td>\n",
       "      <td>Ankara</td>\n",
       "    </tr>\n",
       "    <tr>\n",
       "      <th>159</th>\n",
       "      <td>image_17159.jpg</td>\n",
       "      <td>Izmir</td>\n",
       "    </tr>\n",
       "    <tr>\n",
       "      <th>160</th>\n",
       "      <td>image_17160.jpg</td>\n",
       "      <td>Istanbul</td>\n",
       "    </tr>\n",
       "    <tr>\n",
       "      <th>161</th>\n",
       "      <td>image_17161.jpg</td>\n",
       "      <td>Istanbul</td>\n",
       "    </tr>\n",
       "    <tr>\n",
       "      <th>162</th>\n",
       "      <td>image_17162.jpg</td>\n",
       "      <td>Ankara</td>\n",
       "    </tr>\n",
       "    <tr>\n",
       "      <th>163</th>\n",
       "      <td>image_17163.jpg</td>\n",
       "      <td>Ankara</td>\n",
       "    </tr>\n",
       "    <tr>\n",
       "      <th>164</th>\n",
       "      <td>image_17164.jpg</td>\n",
       "      <td>Ankara</td>\n",
       "    </tr>\n",
       "    <tr>\n",
       "      <th>165</th>\n",
       "      <td>image_17165.jpg</td>\n",
       "      <td>Ankara</td>\n",
       "    </tr>\n",
       "    <tr>\n",
       "      <th>166</th>\n",
       "      <td>image_17166.jpg</td>\n",
       "      <td>Ankara</td>\n",
       "    </tr>\n",
       "    <tr>\n",
       "      <th>167</th>\n",
       "      <td>image_17167.jpg</td>\n",
       "      <td>Ankara</td>\n",
       "    </tr>\n",
       "    <tr>\n",
       "      <th>168</th>\n",
       "      <td>image_17168.jpg</td>\n",
       "      <td>Izmir</td>\n",
       "    </tr>\n",
       "    <tr>\n",
       "      <th>169</th>\n",
       "      <td>image_17169.jpg</td>\n",
       "      <td>Izmir</td>\n",
       "    </tr>\n",
       "    <tr>\n",
       "      <th>170</th>\n",
       "      <td>image_17170.jpg</td>\n",
       "      <td>Istanbul</td>\n",
       "    </tr>\n",
       "    <tr>\n",
       "      <th>171</th>\n",
       "      <td>image_17171.jpg</td>\n",
       "      <td>Ankara</td>\n",
       "    </tr>\n",
       "    <tr>\n",
       "      <th>172</th>\n",
       "      <td>image_17172.jpg</td>\n",
       "      <td>Ankara</td>\n",
       "    </tr>\n",
       "    <tr>\n",
       "      <th>173</th>\n",
       "      <td>image_17173.jpg</td>\n",
       "      <td>Ankara</td>\n",
       "    </tr>\n",
       "    <tr>\n",
       "      <th>174</th>\n",
       "      <td>image_17174.jpg</td>\n",
       "      <td>Ankara</td>\n",
       "    </tr>\n",
       "    <tr>\n",
       "      <th>175</th>\n",
       "      <td>image_17175.jpg</td>\n",
       "      <td>Izmir</td>\n",
       "    </tr>\n",
       "    <tr>\n",
       "      <th>176</th>\n",
       "      <td>image_17176.jpg</td>\n",
       "      <td>Istanbul</td>\n",
       "    </tr>\n",
       "    <tr>\n",
       "      <th>177</th>\n",
       "      <td>image_17177.jpg</td>\n",
       "      <td>Istanbul</td>\n",
       "    </tr>\n",
       "    <tr>\n",
       "      <th>178</th>\n",
       "      <td>image_17178.jpg</td>\n",
       "      <td>Istanbul</td>\n",
       "    </tr>\n",
       "    <tr>\n",
       "      <th>179</th>\n",
       "      <td>image_17179.jpg</td>\n",
       "      <td>Istanbul</td>\n",
       "    </tr>\n",
       "    <tr>\n",
       "      <th>180</th>\n",
       "      <td>image_17180.jpg</td>\n",
       "      <td>Istanbul</td>\n",
       "    </tr>\n",
       "    <tr>\n",
       "      <th>181</th>\n",
       "      <td>image_17181.jpg</td>\n",
       "      <td>Izmir</td>\n",
       "    </tr>\n",
       "    <tr>\n",
       "      <th>182</th>\n",
       "      <td>image_17182.jpg</td>\n",
       "      <td>Ankara</td>\n",
       "    </tr>\n",
       "    <tr>\n",
       "      <th>183</th>\n",
       "      <td>image_17183.jpg</td>\n",
       "      <td>Istanbul</td>\n",
       "    </tr>\n",
       "    <tr>\n",
       "      <th>184</th>\n",
       "      <td>image_17184.jpg</td>\n",
       "      <td>Istanbul</td>\n",
       "    </tr>\n",
       "    <tr>\n",
       "      <th>185</th>\n",
       "      <td>image_17185.jpg</td>\n",
       "      <td>Izmir</td>\n",
       "    </tr>\n",
       "    <tr>\n",
       "      <th>186</th>\n",
       "      <td>image_17186.jpg</td>\n",
       "      <td>Istanbul</td>\n",
       "    </tr>\n",
       "    <tr>\n",
       "      <th>187</th>\n",
       "      <td>image_17187.jpg</td>\n",
       "      <td>Izmir</td>\n",
       "    </tr>\n",
       "    <tr>\n",
       "      <th>188</th>\n",
       "      <td>image_17188.jpg</td>\n",
       "      <td>Istanbul</td>\n",
       "    </tr>\n",
       "    <tr>\n",
       "      <th>189</th>\n",
       "      <td>image_17189.jpg</td>\n",
       "      <td>Ankara</td>\n",
       "    </tr>\n",
       "    <tr>\n",
       "      <th>190</th>\n",
       "      <td>image_17190.jpg</td>\n",
       "      <td>Izmir</td>\n",
       "    </tr>\n",
       "    <tr>\n",
       "      <th>191</th>\n",
       "      <td>image_17191.jpg</td>\n",
       "      <td>Izmir</td>\n",
       "    </tr>\n",
       "    <tr>\n",
       "      <th>192</th>\n",
       "      <td>image_17192.jpg</td>\n",
       "      <td>Istanbul</td>\n",
       "    </tr>\n",
       "    <tr>\n",
       "      <th>193</th>\n",
       "      <td>image_17193.jpg</td>\n",
       "      <td>Istanbul</td>\n",
       "    </tr>\n",
       "    <tr>\n",
       "      <th>194</th>\n",
       "      <td>image_17194.jpg</td>\n",
       "      <td>Ankara</td>\n",
       "    </tr>\n",
       "    <tr>\n",
       "      <th>195</th>\n",
       "      <td>image_17195.jpg</td>\n",
       "      <td>Ankara</td>\n",
       "    </tr>\n",
       "    <tr>\n",
       "      <th>196</th>\n",
       "      <td>image_17196.jpg</td>\n",
       "      <td>Ankara</td>\n",
       "    </tr>\n",
       "    <tr>\n",
       "      <th>197</th>\n",
       "      <td>image_17197.jpg</td>\n",
       "      <td>Izmir</td>\n",
       "    </tr>\n",
       "    <tr>\n",
       "      <th>198</th>\n",
       "      <td>image_17198.jpg</td>\n",
       "      <td>Izmir</td>\n",
       "    </tr>\n",
       "    <tr>\n",
       "      <th>199</th>\n",
       "      <td>image_17199.jpg</td>\n",
       "      <td>Izmir</td>\n",
       "    </tr>\n",
       "  </tbody>\n",
       "</table>\n",
       "</div>"
      ],
      "text/plain": [
       "            filename      city\n",
       "150  image_17150.jpg  Istanbul\n",
       "151  image_17151.jpg     Izmir\n",
       "152  image_17152.jpg  Istanbul\n",
       "153  image_17153.jpg  Istanbul\n",
       "154  image_17154.jpg  Istanbul\n",
       "155  image_17155.jpg     Izmir\n",
       "156  image_17156.jpg    Ankara\n",
       "157  image_17157.jpg  Istanbul\n",
       "158  image_17158.jpg    Ankara\n",
       "159  image_17159.jpg     Izmir\n",
       "160  image_17160.jpg  Istanbul\n",
       "161  image_17161.jpg  Istanbul\n",
       "162  image_17162.jpg    Ankara\n",
       "163  image_17163.jpg    Ankara\n",
       "164  image_17164.jpg    Ankara\n",
       "165  image_17165.jpg    Ankara\n",
       "166  image_17166.jpg    Ankara\n",
       "167  image_17167.jpg    Ankara\n",
       "168  image_17168.jpg     Izmir\n",
       "169  image_17169.jpg     Izmir\n",
       "170  image_17170.jpg  Istanbul\n",
       "171  image_17171.jpg    Ankara\n",
       "172  image_17172.jpg    Ankara\n",
       "173  image_17173.jpg    Ankara\n",
       "174  image_17174.jpg    Ankara\n",
       "175  image_17175.jpg     Izmir\n",
       "176  image_17176.jpg  Istanbul\n",
       "177  image_17177.jpg  Istanbul\n",
       "178  image_17178.jpg  Istanbul\n",
       "179  image_17179.jpg  Istanbul\n",
       "180  image_17180.jpg  Istanbul\n",
       "181  image_17181.jpg     Izmir\n",
       "182  image_17182.jpg    Ankara\n",
       "183  image_17183.jpg  Istanbul\n",
       "184  image_17184.jpg  Istanbul\n",
       "185  image_17185.jpg     Izmir\n",
       "186  image_17186.jpg  Istanbul\n",
       "187  image_17187.jpg     Izmir\n",
       "188  image_17188.jpg  Istanbul\n",
       "189  image_17189.jpg    Ankara\n",
       "190  image_17190.jpg     Izmir\n",
       "191  image_17191.jpg     Izmir\n",
       "192  image_17192.jpg  Istanbul\n",
       "193  image_17193.jpg  Istanbul\n",
       "194  image_17194.jpg    Ankara\n",
       "195  image_17195.jpg    Ankara\n",
       "196  image_17196.jpg    Ankara\n",
       "197  image_17197.jpg     Izmir\n",
       "198  image_17198.jpg     Izmir\n",
       "199  image_17199.jpg     Izmir"
      ]
     },
     "execution_count": 44,
     "metadata": {},
     "output_type": "execute_result"
    }
   ],
   "source": [
    "submission[150:200]"
   ]
  },
  {
   "cell_type": "code",
   "execution_count": null,
   "id": "776890a9-4df4-453b-9f9c-43f9577690af",
   "metadata": {},
   "outputs": [],
   "source": []
  }
 ],
 "metadata": {
  "kernelspec": {
   "display_name": "Python 3 (ipykernel)",
   "language": "python",
   "name": "python3"
  },
  "language_info": {
   "codemirror_mode": {
    "name": "ipython",
    "version": 3
   },
   "file_extension": ".py",
   "mimetype": "text/x-python",
   "name": "python",
   "nbconvert_exporter": "python",
   "pygments_lexer": "ipython3",
   "version": "3.8.20"
  }
 },
 "nbformat": 4,
 "nbformat_minor": 5
}
